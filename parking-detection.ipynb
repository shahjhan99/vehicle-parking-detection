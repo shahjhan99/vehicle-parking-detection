{
 "cells": [
  {
   "cell_type": "markdown",
   "metadata": {
    "id": "Fa_pQDIubiDX"
   },
   "source": [
    "# **Vehicle Parking Detection-YOLOv8**"
   ]
  },
  {
   "cell_type": "markdown",
   "metadata": {
    "id": "aEQnyUGJ7V_T"
   },
   "source": [
    "# **Download Dataset for YOLOv8 using Roboflow**"
   ]
  },
  {
   "cell_type": "code",
   "execution_count": null,
   "metadata": {
    "id": "LqM0iEoosGEF"
   },
   "outputs": [],
   "source": [
    "!pip install roboflow\n",
    "!pip install ultralytics\n",
    "\n",
    "\n",
    "from roboflow import Roboflow\n",
    "rf = Roboflow(api_key=\"Roboflow API Key\")\n",
    "project = rf.workspace(\"jeremy-w3v4a\").project(\"parking-detection-jeremykevin\")\n",
    "version = project.version(10)\n",
    "dataset = version.download(\"yolov8\")"
   ]
  },
  {
   "cell_type": "markdown",
   "metadata": {
    "id": "gWhldjpe79NP"
   },
   "source": [
    "# **Listing Sample Images from Training Dataset**"
   ]
  },
  {
   "cell_type": "code",
   "execution_count": null,
   "metadata": {
    "id": "u8YIX9I2tIFm"
   },
   "outputs": [],
   "source": [
    "!ls -lh parking-detection-jeremyKevin-10/train/images | head -n 5\n",
    "!ls -lh parking-detection-jeremyKevin-10/train/images | head -n 5\n",
    "!ls -lh parking-detection-jeremyKevin-10/train/images | head -n 5\n"
   ]
  },
  {
   "cell_type": "markdown",
   "metadata": {
    "id": "DS8Z5cwv8NKg"
   },
   "source": [
    "# **Training YOLOv8 Model on Parking Detection Dataset**"
   ]
  },
  {
   "cell_type": "code",
   "execution_count": null,
   "metadata": {
    "id": "z9FFJYZruARN"
   },
   "outputs": [],
   "source": [
    "\n",
    "\n",
    "from ultralytics import YOLO\n",
    "\n",
    "model = YOLO(\"yolov8n.pt\")\n",
    "model.train(data=\"/content/parking-detection-jeremyKevin-10/data.yaml\", epochs=20, imgsz=640, device=\"cuda\")\n"
   ]
  },
  {
   "cell_type": "markdown",
   "metadata": {
    "id": "00Bxd3WqB2WU"
   },
   "source": [
    "# **Displaying Confusion Matrix**\n"
   ]
  },
  {
   "cell_type": "code",
   "execution_count": null,
   "metadata": {
    "id": "-8797jXGB0qL"
   },
   "outputs": [],
   "source": [
    "\n",
    "from ultralytics import YOLO\n",
    "import matplotlib.pyplot as plt\n",
    "import cv2\n",
    "\n",
    "# Load the trained YOLOv8 model\n",
    "model = YOLO(\"/content/drive/MyDrive/my_best_yolov8_model.pt\")  # Update with your model path\n",
    "\n",
    "# Run validation to generate evaluation metrics\n",
    "metrics = model.val()\n",
    "\n",
    "# The confusion matrix image is automatically saved in 'runs/detect/val/confusion_matrix.png'\n",
    "conf_matrix_path = \"runs/detect/val/confusion_matrix.png\"\n",
    "\n",
    "# Load and display the confusion matrix\n",
    "conf_matrix_img = cv2.imread(conf_matrix_path)\n",
    "conf_matrix_img = cv2.cvtColor(conf_matrix_img, cv2.COLOR_BGR2RGB)\n",
    "\n",
    "# Show the confusion matrix using Matplotlib\n",
    "plt.figure(figsize=(8, 8))\n",
    "plt.imshow(conf_matrix_img)\n",
    "plt.axis(\"off\")\n",
    "plt.title(\"Confusion Matrix\")\n",
    "plt.show()\n"
   ]
  },
  {
   "cell_type": "markdown",
   "metadata": {
    "id": "YIjJBpYv8XbB"
   },
   "source": [
    "# **Saving Trained YOLOv8 Model**"
   ]
  },
  {
   "cell_type": "markdown",
   "metadata": {
    "id": "xZAM1EpHAj-j"
   },
   "source": [
    "# **Saving YOLOv8 Model to Google Drive**"
   ]
  },
  {
   "cell_type": "code",
   "execution_count": null,
   "metadata": {
    "collapsed": true,
    "id": "-dL7psyQRMkV"
   },
   "outputs": [],
   "source": [
    "from google.colab import drive\n",
    "drive.mount('/content/drive')\n",
    "\n",
    "shutil.copy(\"runs/detect/train/weights/best.pt\", \"/content/drive/MyDrive/my_best_yolov8_model.pt\")\n",
    "print(\"Model saved to Google Drive!\")\n"
   ]
  },
  {
   "cell_type": "markdown",
   "metadata": {
    "id": "0gJdRl8fA4rY"
   },
   "source": [
    "# **Running Inference with Trained YOLOv8 Model**"
   ]
  },
  {
   "cell_type": "code",
   "execution_count": null,
   "metadata": {
    "colab": {
     "base_uri": "https://localhost:8080/"
    },
    "executionInfo": {
     "elapsed": 3411,
     "status": "ok",
     "timestamp": 1742404209519,
     "user": {
      "displayName": "M.Shahjhan Gondal",
      "userId": "08530916683009776577"
     },
     "user_tz": -300
    },
    "id": "dyq7VE9fRtOT",
    "outputId": "ec7d88fa-058f-483b-8b47-470b401d16c6"
   },
   "outputs": [
    {
     "name": "stdout",
     "output_type": "stream",
     "text": [
      "\n",
      "image 1/1 /content/pic2.png: 448x640 21 cars, 32 frees, 240.6ms\n",
      "Speed: 13.6ms preprocess, 240.6ms inference, 24.0ms postprocess per image at shape (1, 3, 448, 640)\n",
      "Results saved to \u001b[1mruns/detect/predict\u001b[0m\n"
     ]
    }
   ],
   "source": [
    "#!pip install ultralytics\n",
    "\n",
    "from ultralytics import YOLO\n",
    "from PIL import Image  # Optional: To display the image\n",
    "\n",
    "# Load the trained model\n",
    "model = YOLO(\"/content/drive/MyDrive/my_best_yolov8_model.pt\")\n",
    "\n",
    "# Run inference on the image\n",
    "\n",
    "\n",
    "# Run inference with smaller labels\n",
    "results = model.predict(source=\"/content/pic2.png\", save=True, conf=0.5, show_labels=True, show_conf=True, show_boxes=True, line_width=1)\n",
    "# Display the image (Optional: If using Jupyter or Colab)\n",
    "\n"
   ]
  },
  {
   "cell_type": "markdown",
   "metadata": {
    "id": "LjooqKBdBA8T"
   },
   "source": [
    "# **Running YOLOv8 Inference on Video**"
   ]
  },
  {
   "cell_type": "code",
   "execution_count": null,
   "metadata": {
    "id": "6qZi09n5ZmXn"
   },
   "outputs": [],
   "source": [
    "video_path = \"/content/parking-video.mp4\"  # Replace with your video file path\n",
    "output_path = \"output_video.mp4\"  # The result will be saved here\n",
    "\n",
    "results = model.predict(video_path, save=True, save_txt=True)\n",
    "\n",
    "print(\"✅ Inference complete! Check the output folder.\")\n"
   ]
  }
 ],
 "metadata": {
  "colab": {
   "authorship_tag": "ABX9TyOQwLKy5XkflbwiStfJUwa9",
   "mount_file_id": "1uH2DIRODuQOdI8A8wkySGcxRLKDad4VY",
   "provenance": []
  },
  "kernelspec": {
   "display_name": "Python 3",
   "name": "python3"
  },
  "language_info": {
   "name": "python"
  }
 },
 "nbformat": 4,
 "nbformat_minor": 0
}
